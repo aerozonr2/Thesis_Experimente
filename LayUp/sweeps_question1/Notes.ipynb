{
 "cells": [
  {
   "cell_type": "markdown",
   "metadata": {},
   "source": [
    "### Vorgehen:\n",
    "1. \"unwichtige\" Parameter herausfinden durch Experimente mit num_exp=1 und reduce_dataset=0.2.\n",
    "    Parameter: Backbone, kd(schhonmal testen)\n",
    "2. Wie 1. aber mit num_exp=3.\n",
    "    Parameter: classification, selection_method\n",
    "- Dadurch schonmal grobe Infos sammeln und dann später stichprobenartig verifizieren\n",
    "\n",
    "3. Mit den gesammelten Infos die Benchmarks übertreffen oder Schonmal Q2 und Q3 anfangen"
   ]
  },
  {
   "cell_type": "markdown",
   "metadata": {},
   "source": [
    "## ---"
   ]
  },
  {
   "cell_type": "markdown",
   "metadata": {},
   "source": [
    "### Sweep fj01kgs5: sc_q1_all_datasets_classification_and_selection\n",
    "- reduce_dataset=1.1 statt 0.2:   \n",
    "  \n",
    "|        | cifar100 | imagenetr | cub | dil_imagenetr | imageneta | vtab | cars | omnibenchmark | limited_domainnet |\n",
    "|--------|----------|-----------|-----|--------------|-----------|------|------|--------------|-------------------|\n",
    "| Selection| bayesian | bayesian | bayesian | bayesian | bayesian | bayesian |      | bayesian | bayesian |\n",
    "| Classification  | inv_eucld/random/ws | ws/kl/eucl | ??? | ws/kl/eucl | ws/random/inv_ws/inv_eucld | random * |      | ws/random/kl/eucld | inv_eucld |  \n",
    "\n",
    "\\* Alles anderer ca. gleich gut  \n",
    "\n",
    "- Dass die Sachen ähnlich gut performen ist nicht schlimm: geringe Daten und Task Menge.\n",
    "- Aber warum ist random manchmal so gut wie die anderen?\n",
    "- Die lr war viel zu hoch deswegen erstmal nochmal mit geringerer lr versuchenund dann gucken 1. ob die Ergebnisse besser sind, 2. wenn ja dann sind die versuche besser (weniger random) und haben vor allem bei der Clasification mehr Aussagekraft!!\n",
    "#### To Do\n",
    "- Sweeps nochmal mit besserer lr durchführen\n",
    "- Nochmal angucken wie die Distr. erstellt werden. Wenn die nach dem output genommen werden, gibt es bei moderater/hoher lr eine zu starke Veränedrung und es ist quasi wie random. Durch experimente bestätigen vor Mail\n",
    "- Ein durchlauf mit gesammter datenmenge und tasks um unterschied zu sehen\n",
    "- Kyra: kurz sweep beschreiben, Ergebnis: Bayesian ist besser, aber sie classification ist oft nah an random? Ist das schlimm, oder soll ich das einfach weiter untersuchen und dann mal gucken?"
   ]
  },
  {
   "cell_type": "markdown",
   "metadata": {},
   "source": [
    "## ---"
   ]
  },
  {
   "cell_type": "markdown",
   "metadata": {},
   "source": [
    "### Sweep 0kz93mu5: sc_q1_all_datasets_backbone_and_kd\n",
    "- t\n",
    "\n",
    "|               | cifar100 | imagenetr | cub | dil_imagenetr | imageneta | vtab | cars | omnibenchmark | limited_domainnet |\n",
    "|---------------|----------|-----------|-----|--------------|-----------|------|------|--------------|-------------------|\n",
    "| Backbone |          |           |     |              |           |      |      |              |                   |\n",
    "| KD       |          |           |     |              |           |      |      |              |                   |\n",
    "  \n",
    "- bessere Parameter herausfinden damit nicht jede acc. 0.1 ist (tp49kob2)"
   ]
  },
  {
   "cell_type": "markdown",
   "metadata": {},
   "source": [
    "## ---"
   ]
  },
  {
   "cell_type": "markdown",
   "metadata": {},
   "source": [
    "### Sweep qxb0hd5i: sweep_config_batchsize_optimization\n",
    "T=10; moe_max_experts=5; reduce_dataset=1\n",
    "|        | cifar100 | imagenetr | cub | dil_imagenetr | imageneta | vtab | cars | omnibenchmark | limited_domainnet | cddb |\n",
    "|--------|----------|-----------|-----|--------------|-----------|------|------|--------------|-------------------| ---- |\n",
    "| GPU Memory| 7851.74 | 9655.29 | 7228.88 | 9655.29 | 6656.36 | 7486.83 | 7186.94 | 9xxx.xx | --- | --- |\n",
    "  \n",
    "-> letzen beiden checken  \n",
    "-> implementation von batch_size *= 1.x"
   ]
  },
  {
   "cell_type": "markdown",
   "metadata": {},
   "source": [
    "## ---"
   ]
  },
  {
   "cell_type": "markdown",
   "metadata": {},
   "source": [
    "### cifar100\n",
    "- backbone:"
   ]
  },
  {
   "cell_type": "markdown",
   "metadata": {},
   "source": []
  }
 ],
 "metadata": {
  "kernelspec": {
   "display_name": "Python 3",
   "language": "python",
   "name": "python3"
  },
  "language_info": {
   "codemirror_mode": {
    "name": "ipython",
    "version": 3
   },
   "file_extension": ".py",
   "mimetype": "text/x-python",
   "name": "python",
   "nbconvert_exporter": "python",
   "pygments_lexer": "ipython3",
   "version": "3.8.10"
  }
 },
 "nbformat": 4,
 "nbformat_minor": 2
}
