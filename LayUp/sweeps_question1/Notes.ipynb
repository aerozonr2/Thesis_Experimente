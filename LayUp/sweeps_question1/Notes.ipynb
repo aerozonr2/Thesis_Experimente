{
 "cells": [
  {
   "cell_type": "markdown",
   "metadata": {},
   "source": [
    "### Vorgehen:\n",
    "1. \"unwichtige\" Parameter herausfinden durch Experimente mit num_exp=1 und reduce_dataset=0.2.\n",
    "    Parameter: Backbone, kd(schhonmal testen)\n",
    "2. Wie 1. aber mit num_exp=3.\n",
    "    Parameter: classification, selection_method\n",
    "- Dadurch schonmal grobe Infos sammeln und dann später stichprobenartig verifizieren\n",
    "\n",
    "3. Mit den gesammelten Infos die Benchmarks übertreffen oder Schonmal Q2 und Q3 anfangen"
   ]
  },
  {
   "cell_type": "markdown",
   "metadata": {},
   "source": [
    "## ---"
   ]
  },
  {
   "cell_type": "markdown",
   "metadata": {},
   "source": [
    "### Sweep fj01kgs5 (new 14cyr3rb): sc_q1_all_datasets_classification_and_selection\n",
    "- reduce_dataset=1.1 statt 0.2:   \n",
    "  \n",
    "|        | cifar100 | imagenetr | cub | dil_imagenetr | imageneta | vtab | cars | omnibenchmark | limited_domainnet |\n",
    "|--------|----------|-----------|-----|--------------|-----------|------|------|--------------|-------------------|\n",
    "| Selection| bayesian | bayesian | bayesian | bayesian | bayesian | bayesian | --- | bayesian | bayesian |\n",
    "| Classification  | inv_ws/inv_kl | ws | inv_eucld | ws | ws | kl/eucld | --- | ws/kl/eucld | ? |  \n",
    "\n",
    "- Alt: manche lr/ft_epochs waren immer noch schlecht -> sc_q1_some_datasets_classification_and_selection_get_better_param2 (me5norfz)\n",
    "- Neu  mit opt lr und ft-epochhs lim_domainnet: sr9avnjp"
   ]
  },
  {
   "cell_type": "markdown",
   "metadata": {},
   "source": [
    "## ---"
   ]
  },
  {
   "cell_type": "markdown",
   "metadata": {},
   "source": [
    "### Sweep nbibpxto, pj12t7ux: sc_q1_all_datasets_backbone_and_kd\n",
    "- Backbone: nbibpxto, KD: pj12t7ux\n",
    "\n",
    "|               | cifar100 | imagenetr | cub | dil_imagenetr | imageneta | vtab | cars | omnibenchmark | limited_domainnet |\n",
    "|---------------|----------|-----------|-----|--------------|-----------|------|------|--------------|-------------------|\n",
    "| Backbone | egal | in21k | in21k | in21k | (in21k) | normal | --- | normal | normal |\n",
    "| KD-Alpha | egal | egal | egal | egal | egal | egal | --- | egal | egal |\n",
    "  \n",
    "\n",
    "- Alt: Bessere Parameter herausfinden damit nicht jede acc. 0.1 ist (tp49kob2)\n",
    "- Neu: Bei KD alpha hoch machen, da es bis jetzt immer egal ist (pj12t7ux). Achtung: wenn kd=False ist kd-alpha egal weil es nicht benutzt wird"
   ]
  },
  {
   "cell_type": "markdown",
   "metadata": {},
   "source": [
    "## ---"
   ]
  },
  {
   "cell_type": "markdown",
   "metadata": {},
   "source": [
    "### Sweep qxb0hd5i: sweep_config_batchsize_optimization\n",
    "T=10; moe_max_experts=5; reduce_dataset=1\n",
    "|        | cifar100 | imagenetr | cub | dil_imagenetr | imageneta | vtab | cars | omnibenchmark | limited_domainnet | cddb |\n",
    "|--------|----------|-----------|-----|--------------|-----------|------|------|--------------|-------------------| ---- |\n",
    "| GPU Memory| 7851.74 | 9655.29 | 7228.88 | 9655.29 | 6656.36 | 7486.83 | 7186.94 | 9xxx.xx | --- | --- |\n",
    "  \n",
    "-> letzen beiden checken  \n",
    "-> implementation von batch_size *= 1.x"
   ]
  },
  {
   "cell_type": "markdown",
   "metadata": {},
   "source": [
    "## ---"
   ]
  }
 ],
 "metadata": {
  "kernelspec": {
   "display_name": "Python 3",
   "language": "python",
   "name": "python3"
  },
  "language_info": {
   "codemirror_mode": {
    "name": "ipython",
    "version": 3
   },
   "file_extension": ".py",
   "mimetype": "text/x-python",
   "name": "python",
   "nbconvert_exporter": "python",
   "pygments_lexer": "ipython3",
   "version": "3.8.10"
  }
 },
 "nbformat": 4,
 "nbformat_minor": 2
}
