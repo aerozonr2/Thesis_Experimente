{
 "cells": [
  {
   "cell_type": "code",
   "execution_count": 1,
   "id": "59c559aa",
   "metadata": {},
   "outputs": [],
   "source": [
    "import wandb\n",
    "import pandas as pd\n",
    "import seaborn as sns\n",
    "import matplotlib.pyplot as plt\n"
   ]
  },
  {
   "cell_type": "code",
   "execution_count": 2,
   "id": "ddaa8902",
   "metadata": {},
   "outputs": [
    {
     "name": "stderr",
     "output_type": "stream",
     "text": [
      "\u001b[34m\u001b[1mwandb\u001b[0m: Using wandb-core as the SDK backend.  Please refer to https://wandb.me/wandb-core for more information.\n",
      "\u001b[34m\u001b[1mwandb\u001b[0m: \u001b[33mWARNING\u001b[0m If you're specifying your api key in code, ensure this code is not shared publicly.\n",
      "\u001b[34m\u001b[1mwandb\u001b[0m: \u001b[33mWARNING\u001b[0m Consider setting the WANDB_API_KEY environment variable, or running `wandb login` from the command line.\n",
      "\u001b[34m\u001b[1mwandb\u001b[0m: Appending key for api.wandb.ai to your netrc file: /export/home/0schindl/.netrc\n",
      "\u001b[34m\u001b[1mwandb\u001b[0m: Currently logged in as: \u001b[33mbelaschindler\u001b[0m (\u001b[33mbelaschindler-university-hamburg\u001b[0m) to \u001b[32mhttps://api.wandb.ai\u001b[0m. Use \u001b[1m`wandb login --relogin`\u001b[0m to force relogin\n"
     ]
    }
   ],
   "source": [
    "wandb.login(key=\"8a88a8c49d1c2d31b8677fe0b8eb7d3e3a031f83\")\n",
    "api = wandb.Api()\n"
   ]
  },
  {
   "cell_type": "code",
   "execution_count": 12,
   "id": "901cc94e",
   "metadata": {},
   "outputs": [
    {
     "name": "stdout",
     "output_type": "stream",
     "text": [
      "\n",
      "DataFrame der Sweep-Runs:\n",
      "     run_id        dataset selection_method  mean_acc\n",
      "0  otpftybu  omnibenchmark       inv_kl_div  0.557919\n",
      "1  dps0ppun      imageneta           ws_div  0.391483\n",
      "2  kjxo0x09  omnibenchmark           around  0.587812\n",
      "3  93y21l92           cars           ws_div  0.272995\n",
      "4  fc1z9ff6           cars       inv_kl_div  0.277637\n",
      "\n",
      "Beste Selection Methods pro Dataset im Sweep:\n",
      "      run_id        dataset selection_method  mean_acc\n",
      "5   al08o88u           cars           kl_div  0.279716\n",
      "49  q9r1xc9a       cifar100       inv_ws_div  0.780800\n",
      "34  b0dzsjax            cub       inv_ws_div  0.730753\n",
      "32  2f76fh74  dil_imagenetr       eucld_dist  0.060582\n",
      "26  i456qxf5      imageneta       inv_kl_div  0.402793\n",
      "27  e7fey5va      imagenetr       inv_kl_div  0.575949\n",
      "2   kjxo0x09  omnibenchmark           around  0.587812\n",
      "10  h9k1tnoy           vtab           ws_div  0.790272\n"
     ]
    }
   ],
   "source": [
    "sweep_id = \"belaschindler-university-hamburg/0schindl-LayUp_sweeps_question1_selection_method/wk4w5q0t\"\n",
    "sweep = api.sweep(sweep_id)\n",
    "runs = sweep.runs\n",
    "\n",
    "\n",
    "\n",
    "data = []\n",
    "for run in runs:\n",
    "    config = run.config\n",
    "    summary = run.summary\n",
    "\n",
    "    dataset = config.get(\"dataset\")\n",
    "    selection_method = config.get(\"selection_method\")\n",
    "    mean_acc = summary.get(\"task_mean/acc\")\n",
    "    run_id = run.id\n",
    "    state = run.state\n",
    "\n",
    "    if dataset is not None and selection_method is not None and mean_acc is not None and state == \"finished\":\n",
    "        data.append({\n",
    "            \"run_id\": run_id,\n",
    "            \"dataset\": dataset,\n",
    "            \"selection_method\": selection_method,\n",
    "            \"mean_acc\": mean_acc\n",
    "            })\n",
    "\n",
    "df_sweep = pd.DataFrame(data)\n",
    "print(\"\\nDataFrame der Sweep-Runs:\")\n",
    "print(df_sweep.head())\n",
    "\n",
    "# Gruppiere nach Dataset und finde die beste selection_method basierend auf mean_acc (wie zuvor)\n",
    "best_methods_sweep = df_sweep.loc[df_sweep.groupby(\"dataset\")[\"mean_acc\"].idxmax()]\n",
    "print(\"\\nBeste Selection Methods pro Dataset im Sweep:\")\n",
    "print(best_methods_sweep)\n"
   ]
  },
  {
   "cell_type": "code",
   "execution_count": 14,
   "id": "9481eb38",
   "metadata": {},
   "outputs": [
    {
     "name": "stdout",
     "output_type": "stream",
     "text": [
      "                    run_id        dataset selection_method  mean_acc\n",
      "dataset                                                             \n",
      "cars          5   al08o88u           cars           kl_div  0.279716\n",
      "              4   fc1z9ff6           cars       inv_kl_div  0.277637\n",
      "              6   ua1ld836           cars   inv_eucld_dist  0.277278\n",
      "              7   kvj4knc9           cars       eucld_dist  0.275654\n",
      "              8   kjh5dj04           cars           around  0.275096\n",
      "              3   93y21l92           cars           ws_div  0.272995\n",
      "cifar100      49  q9r1xc9a       cifar100       inv_ws_div  0.780800\n",
      "              37  vip27gx3       cifar100       inv_kl_div  0.780200\n",
      "              51  4hjczvft       cifar100       eucld_dist  0.776200\n",
      "              50  p5xo2f0o       cifar100           kl_div  0.775300\n",
      "              46  3487s1kp       cifar100   inv_eucld_dist  0.773800\n",
      "              36  4ww7bxkx       cifar100           ws_div  0.770300\n",
      "cub           34  b0dzsjax            cub       inv_ws_div  0.730753\n",
      "              35  1v5fru6p            cub           ws_div  0.727252\n",
      "              38  6o4wlyxx            cub       inv_kl_div  0.726688\n",
      "              39  kf6ehova            cub           kl_div  0.726459\n",
      "              41  iqy2i7z6            cub       eucld_dist  0.725620\n",
      "              40  8asspb0s            cub   inv_eucld_dist  0.724822\n",
      "              42  zv1t9s88            cub           around  0.721866\n",
      "dil_imagenetr 32  2f76fh74  dil_imagenetr       eucld_dist  0.060582\n",
      "              20  w5ydbzu7  dil_imagenetr           ws_div  0.059776\n",
      "              29  58jf1equ  dil_imagenetr       inv_kl_div  0.034922\n",
      "              30  lr3pwe0l  dil_imagenetr           kl_div  0.034766\n",
      "              33  qcnlsz47  dil_imagenetr           around  0.034658\n",
      "              31  jywl4rqs  dil_imagenetr   inv_eucld_dist  0.022235\n",
      "imageneta     26  i456qxf5      imageneta       inv_kl_div  0.402793\n",
      "              15  f7ho9rvo      imageneta           kl_div  0.401911\n",
      "              16  kc8w724c      imageneta   inv_eucld_dist  0.400993\n",
      "              25  kemmqdbx      imageneta       inv_ws_div  0.400403\n",
      "              17  8ckoklh7      imageneta       eucld_dist  0.399973\n",
      "              19  v58sf8i1      imageneta       eucld_dist  0.399973\n",
      "              18  srie9ojl      imageneta           around  0.396936\n",
      "              21  nv3jssff      imageneta       eucld_dist  0.393573\n",
      "              1   dps0ppun      imageneta           ws_div  0.391483\n",
      "imagenetr     27  e7fey5va      imagenetr       inv_kl_div  0.575949\n",
      "              44  9lcro1ez      imagenetr           ws_div  0.574613\n",
      "              47  xml5gzh7      imagenetr   inv_eucld_dist  0.574534\n",
      "              48  b2u56ro8      imagenetr       eucld_dist  0.572709\n",
      "              22  ykyypsh7      imagenetr       inv_kl_div  0.572706\n",
      "              23  7c4ytzvr      imagenetr           around  0.571331\n",
      "              28  qr5u1wcw      imagenetr           around  0.571159\n",
      "              43  oju7pgkq      imagenetr       inv_ws_div  0.569058\n",
      "              45  a9576ypx      imagenetr           kl_div  0.563779\n",
      "omnibenchmark 2   kjxo0x09  omnibenchmark           around  0.587812\n",
      "              0   otpftybu  omnibenchmark       inv_kl_div  0.557919\n",
      "vtab          10  h9k1tnoy           vtab           ws_div  0.790272\n",
      "              14  ftfzoeb7           vtab       eucld_dist  0.790080\n",
      "              24  w7udv3bc           vtab           around  0.788247\n",
      "              12  ddiw0g9b           vtab           kl_div  0.786456\n",
      "              11  t5wunqp5           vtab       inv_kl_div  0.786172\n",
      "              13  d75ne2og           vtab   inv_eucld_dist  0.786161\n",
      "              9   h9pgvj4a           vtab       inv_ws_div  0.785874\n",
      "(52, 4)\n"
     ]
    }
   ],
   "source": [
    "sorted_methods_per_dataset = df_sweep.groupby(\"dataset\").apply(\n",
    "    lambda x: x.sort_values(by=\"mean_acc\", ascending=False)\n",
    ")\n",
    "\n",
    "with pd.option_context('display.max_rows', None):\n",
    "    print(sorted_methods_per_dataset)\n",
    "print(sorted_methods_per_dataset.shape)\n"
   ]
  },
  {
   "cell_type": "code",
   "execution_count": 26,
   "id": "7beed876",
   "metadata": {},
   "outputs": [
    {
     "name": "stdout",
     "output_type": "stream",
     "text": [
      "              cars        cifar100             cub   dil_imagenetr       imageneta       imagenetr omnibenchmark            vtab\n",
      "1.          kl_div      inv_ws_div      inv_ws_div      eucld_dist      inv_kl_div      inv_kl_div        around          ws_div\n",
      "2.      inv_kl_div      inv_kl_div          ws_div          ws_div          kl_div          ws_div    inv_kl_div      eucld_dist\n",
      "3.  inv_eucld_dist      eucld_dist      inv_kl_div      inv_kl_div  inv_eucld_dist  inv_eucld_dist           NaN          around\n",
      "4.      eucld_dist          kl_div          kl_div          kl_div      inv_ws_div      eucld_dist           NaN          kl_div\n",
      "5.          around  inv_eucld_dist      eucld_dist          around      eucld_dist      inv_kl_div           NaN      inv_kl_div\n",
      "6.          ws_div          ws_div  inv_eucld_dist  inv_eucld_dist      eucld_dist          around           NaN  inv_eucld_dist\n"
     ]
    }
   ],
   "source": [
    "fill_value = \"N/A\"  # Hier kannst du deinen gewünschten Füllwert festlegen\n",
    "\n",
    "def rank_selection_methods(group):\n",
    "    \"\"\"Ordnet die Selection Methods innerhalb einer Dataset-Gruppe nach mean_acc.\"\"\"\n",
    "    ranked = group.sort_values(by='mean_acc', ascending=False)['selection_method'].reset_index(drop=True)\n",
    "    return ranked\n",
    "\n",
    "ranked_methods = df_sweep.groupby('dataset').apply(rank_selection_methods)\n",
    "\n",
    "# Erstelle einen neuen DataFrame für die Übersicht mit Füllwerten\n",
    "overview_ranked = pd.DataFrame()\n",
    "max_rows = 0\n",
    "for dataset in ranked_methods.index.get_level_values('dataset').unique():\n",
    "    methods = ranked_methods[dataset]\n",
    "    overview_ranked[dataset] = methods.reindex(range(len(methods)), fill_value=fill_value)\n",
    "    max_rows = max(max_rows, len(methods))\n",
    "\n",
    "# Setze den Index basierend auf der tatsächlichen Anzahl der Zeilen im DataFrame\n",
    "overview_ranked.index = [f\"{i+1}.\" for i in range(len(overview_ranked))]\n",
    "\n",
    "pd.set_option('display.width', 5000)\n",
    "pd.set_option('display.max_colwidth', None)\n",
    "print(overview_ranked)\n",
    "pd.set_option('display.width', None)\n",
    "pd.set_option('display.max_colwidth', None)\n"
   ]
  },
  {
   "cell_type": "code",
   "execution_count": null,
   "id": "dac32fdc",
   "metadata": {},
   "outputs": [],
   "source": []
  }
 ],
 "metadata": {
  "kernelspec": {
   "display_name": "Python 3",
   "language": "python",
   "name": "python3"
  },
  "language_info": {
   "codemirror_mode": {
    "name": "ipython",
    "version": 3
   },
   "file_extension": ".py",
   "mimetype": "text/x-python",
   "name": "python",
   "nbconvert_exporter": "python",
   "pygments_lexer": "ipython3",
   "version": "3.8.10"
  }
 },
 "nbformat": 4,
 "nbformat_minor": 5
}
